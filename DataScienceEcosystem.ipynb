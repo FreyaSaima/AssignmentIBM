{
 "cells": [
  {
   "cell_type": "markdown",
   "id": "6ab04b6d-45c8-422c-946f-f670bb816f3f",
   "metadata": {},
   "source": [
    "# Data Science Tools and Ecosystem"
   ]
  },
  {
   "cell_type": "markdown",
   "id": "5993ecab-3884-4a25-8e3f-ee3bef63c4c1",
   "metadata": {},
   "source": [
    "## Author\n",
    "Freya Saima Aguilar Andrade"
   ]
  },
  {
   "cell_type": "markdown",
   "id": "a640e07d-3539-46b8-912d-4b4b403adad5",
   "metadata": {},
   "source": [
    "In this notebook, Data Science Tools and Ecosystem are summarized."
   ]
  },
  {
   "cell_type": "markdown",
   "id": "97cf12d0-428c-4d28-8d07-5d686802eda9",
   "metadata": {},
   "source": [
    "Objectives:\n",
    "* List popular languages for Data Science\n",
    "* List commonly used libraries used by Data Scientists\n",
    "* Show some of the open source tools used in data science\n",
    "* Introduce some arithmetic expression examples"
   ]
  },
  {
   "cell_type": "markdown",
   "id": "53db51fa-00af-4adb-ab53-3253595f3a72",
   "metadata": {},
   "source": [
    "Some of the popular languages that Data Scientists use are:\n",
    "1. Python\n",
    "2. R\n",
    "3. SQL\n",
    "4. Java\n",
    "5. Julia"
   ]
  },
  {
   "cell_type": "markdown",
   "id": "1778e9ae-d65e-4e94-9ac2-aa61352838c7",
   "metadata": {},
   "source": [
    "Some of the commonly used libraries used by Data Scientists include:\n",
    "1. Pandas\n",
    "2. NumPy\n",
    "3. Matplotlib\n",
    "4. Seaborn\n",
    "5. Scikit-learn\n",
    "6. Keras\n",
    "7. TensorFlow\n",
    "8. PyTorch"
   ]
  },
  {
   "cell_type": "markdown",
   "id": "cb4d0078-a1b8-467b-a9b2-818cb2172ac6",
   "metadata": {},
   "source": [
    "|Data Science Tools|\n",
    "--------------------\n",
    "|MySQL|\n",
    "|PostgreSQL|\n",
    "|MongoDB|\n",
    "|Apache CouchDB|\n",
    "|Apache Cassandra|\n",
    "|Apache AirFlow|\n",
    "|KubeFlow|\n",
    "|GitHub|"
   ]
  },
  {
   "cell_type": "markdown",
   "id": "4ecf7b61-40cb-4aa0-975b-aeca77a6db9c",
   "metadata": {},
   "source": [
    "### Below are a few examples of evaluating arithmetic expressions in Python"
   ]
  },
  {
   "cell_type": "markdown",
   "id": "e7e48846-9717-4064-a12b-616d228ef6f3",
   "metadata": {},
   "source": [
    "This a simple arithmetic expression to mutiply then add integers"
   ]
  },
  {
   "cell_type": "code",
   "execution_count": 11,
   "id": "2e884de1-09b3-4e14-a7f8-76a315c545cf",
   "metadata": {},
   "outputs": [
    {
     "data": {
      "text/plain": [
       "17"
      ]
     },
     "execution_count": 11,
     "metadata": {},
     "output_type": "execute_result"
    }
   ],
   "source": [
    "(3*4)+5"
   ]
  },
  {
   "cell_type": "markdown",
   "id": "290228ed-8895-4b03-92e9-14281ef94993",
   "metadata": {},
   "source": [
    "This will convert 200 minutes to hours by diving by 60"
   ]
  },
  {
   "cell_type": "code",
   "execution_count": 27,
   "id": "09ac7706-e95b-4677-84bd-67042e9ca46f",
   "metadata": {},
   "outputs": [
    {
     "name": "stdout",
     "output_type": "stream",
     "text": [
      "Hours= 3.3333333333333335\n"
     ]
    }
   ],
   "source": [
    "Minutes=200\n",
    "H=Minutes/60\n",
    "print('Hours=',H)"
   ]
  }
 ],
 "metadata": {
  "kernelspec": {
   "display_name": "Python 3 (ipykernel)",
   "language": "python",
   "name": "python3"
  },
  "language_info": {
   "codemirror_mode": {
    "name": "ipython",
    "version": 3
   },
   "file_extension": ".py",
   "mimetype": "text/x-python",
   "name": "python",
   "nbconvert_exporter": "python",
   "pygments_lexer": "ipython3",
   "version": "3.12.4"
  }
 },
 "nbformat": 4,
 "nbformat_minor": 5
}
